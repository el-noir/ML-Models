{
 "cells": [
  {
   "cell_type": "code",
   "execution_count": 10,
   "metadata": {},
   "outputs": [
    {
     "name": "stdout",
     "output_type": "stream",
     "text": [
      "Cross-validation scores for each fold: [0.96594982 0.95698925 0.9497307  0.96768402 0.96050269 0.95332136\n",
      " 0.9443447  0.9551167  0.95152603 0.95332136]\n",
      "Mean accuracy across all folds: 0.9558486644401973\n",
      "[0]\n",
      "Spam Mail\n"
     ]
    }
   ],
   "source": [
    "# Step 1: Importing necessary libraries\n",
    "import numpy as np\n",
    "import pandas as pd\n",
    "from sklearn.model_selection import train_test_split, cross_val_score\n",
    "from sklearn.feature_extraction.text import TfidfVectorizer\n",
    "from sklearn.linear_model import LogisticRegression\n",
    "from sklearn.metrics import accuracy_score\n",
    "\n",
    "# Step 2: Load the dataset and preprocess it\n",
    "df = pd.read_csv('mail_data.csv')  # Load the dataset\n",
    "data = df.where((pd.notnull(df)), '')  # Replace missing values with empty strings\n",
    "\n",
    "# Replacing spam with 0 and ham with 1\n",
    "data.loc[data['Category'] == 'spam', 'Category'] = 0\n",
    "data.loc[data['Category'] == 'ham', 'Category'] = 1\n",
    "\n",
    "# Separate the messages (X) and labels (Y)\n",
    "X = data['Message']  # Input features (email messages)\n",
    "Y = data['Category'].astype('int')  # Output labels (spam/ham as 0/1)\n",
    "\n",
    "# Step 3: Feature extraction using TfidfVectorizer\n",
    "feature_extraction = TfidfVectorizer(min_df=1, stop_words='english', lowercase=True)\n",
    "X_features = feature_extraction.fit_transform(X)  # Transform all data\n",
    "\n",
    "# Step 4: Applying 10-fold cross-validation\n",
    "model = LogisticRegression()  # Initialize Logistic Regression model\n",
    "\n",
    "# Perform 10-fold cross-validation\n",
    "cv_scores = cross_val_score(model, X_features, Y, cv=10, scoring='accuracy')\n",
    "\n",
    "# Step 5: Display the results\n",
    "# Accuracy for each fold\n",
    "print('Cross-validation scores for each fold:', cv_scores)\n",
    "\n",
    "# Mean accuracy across all folds\n",
    "print('Mean accuracy across all folds:', np.mean(cv_scores))\n",
    "\n",
    "# Optional: Test with a custom email message\n",
    "input_mail = [\"XXXMobileMovieClub: To use your credit, click the WAP link in the next txt message or click here>> http://wap.xxxmobilemovieclub.com?n=QJKGIGHJJGCBL\"]\n",
    "\n",
    "# Convert the custom email to feature format using the same TfidfVectorizer\n",
    "input_data_features = feature_extraction.transform(input_mail)\n",
    "\n",
    "# Train the model on the entire data before making predictions on new data\n",
    "model.fit(X_features, Y)\n",
    "\n",
    "# Prediction on the new email input\n",
    "prediction = model.predict(input_data_features)\n",
    "\n",
    "# Output the result\n",
    "print(prediction)\n",
    "\n",
    "if prediction[0] == 1:\n",
    "    print('Not Spam Mail')\n",
    "else:\n",
    "    print('Spam Mail')\n"
   ]
  }
 ],
 "metadata": {
  "kernelspec": {
   "display_name": "Python 3",
   "language": "python",
   "name": "python3"
  },
  "language_info": {
   "codemirror_mode": {
    "name": "ipython",
    "version": 3
   },
   "file_extension": ".py",
   "mimetype": "text/x-python",
   "name": "python",
   "nbconvert_exporter": "python",
   "pygments_lexer": "ipython3",
   "version": "3.12.1"
  }
 },
 "nbformat": 4,
 "nbformat_minor": 2
}
